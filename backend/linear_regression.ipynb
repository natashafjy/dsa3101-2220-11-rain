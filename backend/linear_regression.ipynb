{
 "cells": [
  {
   "cell_type": "code",
   "execution_count": 1,
   "metadata": {},
   "outputs": [
    {
     "name": "stderr",
     "output_type": "stream",
     "text": [
      "C:\\Users\\Edward\\AppData\\Local\\Temp\\ipykernel_35284\\1824632393.py:8: TqdmWarning: IProgress not found. Please update jupyter and ipywidgets. See https://ipywidgets.readthedocs.io/en/stable/user_install.html\n",
      "  from tqdm.autonotebook import tqdm\n"
     ]
    }
   ],
   "source": [
    "import pandas as pd\n",
    "import datetime\n",
    "import numpy as np\n",
    "from sklearn.linear_model import SGDRegressor, PassiveAggressiveRegressor\n",
    "from sklearn.model_selection import train_test_split\n",
    "import sklearn.metrics as sm\n",
    "from sklearn.neural_network import MLPRegressor\n",
    "from tqdm.autonotebook import tqdm"
   ]
  },
  {
   "cell_type": "code",
   "execution_count": 2,
   "metadata": {},
   "outputs": [],
   "source": [
    "chunksize = 1000000\n",
    "sliding_window_data = pd.read_csv(\"sliding_window_data.csv\", usecols = [], chunksize=chunksize, iterator=True)"
   ]
  },
  {
   "cell_type": "markdown",
   "metadata": {},
   "source": [
    "#### Setting Seed value"
   ]
  },
  {
   "cell_type": "code",
   "execution_count": 3,
   "metadata": {},
   "outputs": [],
   "source": [
    "seed = 3101\n",
    "np.random.seed(3101)"
   ]
  },
  {
   "cell_type": "code",
   "execution_count": 4,
   "metadata": {},
   "outputs": [],
   "source": [
    "# train_data, test_data = train_test_split(sliding_window_data, test_size=0.2, random_state=seed)"
   ]
  },
  {
   "cell_type": "code",
   "execution_count": 5,
   "metadata": {},
   "outputs": [],
   "source": [
    "# sliding_window_data.dtypes"
   ]
  },
  {
   "cell_type": "code",
   "execution_count": 15,
   "metadata": {},
   "outputs": [],
   "source": [
    "drop_cols = [\"date\",\"time\",\"station\"]\n",
    "for i in range(1,7):\n",
    "    for j in range(1,7):\n",
    "        drop_cols.append(f\"T{i}S{j}_station number\")"
   ]
  },
  {
   "cell_type": "code",
   "execution_count": 8,
   "metadata": {},
   "outputs": [
    {
     "name": "stderr",
     "output_type": "stream",
     "text": [
      "24it [07:21, 18.41s/it]\n"
     ]
    }
   ],
   "source": [
    "regression_model = SGDRegressor(random_state=seed, shuffle=True)\n",
    "for batch in tqdm(sliding_window_data):\n",
    "    drop_cols = [\"date\",\"time\",\"station\"]\n",
    "    for i in range(1,7):\n",
    "        for j in range(1,7):\n",
    "            drop_cols.append(f\"T{i}S{j}_station number\")\n",
    "    batch.drop(drop_cols, axis=1, inplace=True)\n",
    "    batch.fillna(value=0, inplace=True)\n",
    "    regression_model.partial_fit(batch.iloc[:,1:], batch.iloc[:,0])"
   ]
  },
  {
   "cell_type": "code",
   "execution_count": 14,
   "metadata": {},
   "outputs": [],
   "source": [
    "random_skips = np.random.randint(1,chunksize,size=3101)\n",
    "test_data = pd.read_csv(\"sliding_window_data.csv\", header=0, nrows=chunksize, skiprows=random_skips)\n",
    "drop_cols = [\"date\",\"time\",\"station\"]\n",
    "for i in range(1,7):\n",
    "    for j in range(1,7):\n",
    "        drop_cols.append(f\"T{i}S{j}_station number\")\n",
    "test_data.drop(drop_cols, axis=1, inplace=True)\n",
    "test_data.fillna(value=0, inplace=True)"
   ]
  },
  {
   "cell_type": "code",
   "execution_count": 15,
   "metadata": {},
   "outputs": [],
   "source": [
    "prediction = regression_model.predict(test_data.iloc[:,1:])"
   ]
  },
  {
   "cell_type": "code",
   "execution_count": 22,
   "metadata": {},
   "outputs": [],
   "source": [
    "def display_metrics(y_pred,y_true):\n",
    "    print(f'R2 score is : {sm.r2_score(y_true,y_pred)}')\n",
    "    print(f'MAE is : {sm.mean_absolute_error(y_true,y_pred)}')\n",
    "    print(f'MSE is : {sm.mean_squared_error(y_true,y_pred)}')\n",
    "\n"
   ]
  },
  {
   "cell_type": "code",
   "execution_count": 23,
   "metadata": {},
   "outputs": [
    {
     "name": "stdout",
     "output_type": "stream",
     "text": [
      "R2 score is : 0.0\n",
      "MAE is : 4116997104546.358\n",
      "MSE is : 1.6966181491258439e+25\n"
     ]
    }
   ],
   "source": [
    "display_metrics(prediction,test_data.iloc[:,1])"
   ]
  }
 ],
 "metadata": {
  "kernelspec": {
   "display_name": "rainEnv",
   "language": "python",
   "name": "python3"
  },
  "language_info": {
   "codemirror_mode": {
    "name": "ipython",
    "version": 3
   },
   "file_extension": ".py",
   "mimetype": "text/x-python",
   "name": "python",
   "nbconvert_exporter": "python",
   "pygments_lexer": "ipython3",
   "version": "3.10.2"
  },
  "orig_nbformat": 4
 },
 "nbformat": 4,
 "nbformat_minor": 2
}
