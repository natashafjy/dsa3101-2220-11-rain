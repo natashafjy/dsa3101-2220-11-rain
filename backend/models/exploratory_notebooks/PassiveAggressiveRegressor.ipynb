{
 "cells": [
  {
   "cell_type": "code",
   "execution_count": 1,
   "metadata": {},
   "outputs": [
    {
     "name": "stderr",
     "output_type": "stream",
     "text": [
      "C:\\Users\\Edward\\AppData\\Local\\Temp\\ipykernel_24376\\2514361820.py:7: TqdmWarning: IProgress not found. Please update jupyter and ipywidgets. See https://ipywidgets.readthedocs.io/en/stable/user_install.html\n",
      "  from tqdm.autonotebook import tqdm\n"
     ]
    }
   ],
   "source": [
    "import pandas as pd\n",
    "import numpy as np\n",
    "from sklearn.linear_model import PassiveAggressiveRegressor\n",
    "from sklearn.model_selection import train_test_split\n",
    "import sklearn.metrics as sm\n",
    "from sklearn.model_selection import GridSearchCV\n",
    "from tqdm.autonotebook import tqdm\n",
    "import matplotlib.pyplot as plt"
   ]
  },
  {
   "attachments": {},
   "cell_type": "markdown",
   "metadata": {},
   "source": [
    "#### Train Test split\n",
    "Total 25 million rows <br>\n",
    "Split 0.8 Train : 0.2 Test"
   ]
  },
  {
   "cell_type": "code",
   "execution_count": 2,
   "metadata": {},
   "outputs": [],
   "source": [
    "test_index = range(10_000_000,15_000_000+1)"
   ]
  },
  {
   "cell_type": "code",
   "execution_count": 3,
   "metadata": {},
   "outputs": [],
   "source": [
    "chunksize = 1000000\n",
    "sliding_window_data = pd.read_csv(\"sliding_window_data.csv\", chunksize=chunksize, iterator=True, skiprows=test_index)"
   ]
  },
  {
   "cell_type": "markdown",
   "metadata": {},
   "source": [
    "#### Setting Seed value"
   ]
  },
  {
   "cell_type": "code",
   "execution_count": 4,
   "metadata": {},
   "outputs": [],
   "source": [
    "seed = 3101\n",
    "np.random.seed(3101)"
   ]
  },
  {
   "cell_type": "code",
   "execution_count": 5,
   "metadata": {},
   "outputs": [
    {
     "name": "stderr",
     "output_type": "stream",
     "text": [
      "21it [15:31, 44.35s/it]\n"
     ]
    }
   ],
   "source": [
    "regression_model = PassiveAggressiveRegressor(random_state=seed, shuffle=True)\n",
    "for batch in tqdm(sliding_window_data):\n",
    "    drop_cols = [\"date\",\"time\",\"station\"]\n",
    "    for i in range(1,7):\n",
    "        for j in range(1,7):\n",
    "            drop_cols.append(f\"T{i}S{j}_station number\")\n",
    "    batch.drop(drop_cols, axis=1, inplace=True)\n",
    "    batch.fillna(value=0, inplace=True)\n",
    "    regression_model.partial_fit(batch.iloc[:,1:], batch.iloc[:,0])"
   ]
  },
  {
   "cell_type": "code",
   "execution_count": 6,
   "metadata": {},
   "outputs": [],
   "source": [
    "def display_metrics(y_pred,y_true):\n",
    "    print(f'R2 score is : {sm.r2_score(y_true,y_pred)}')\n",
    "    print(f'MAE is : {sm.mean_absolute_error(y_true,y_pred)}')\n",
    "    print(f'MSE is : {sm.mean_squared_error(y_true,y_pred)}')\n",
    "    \n",
    "    threshold = 0.0\n",
    "    result = pd.DataFrame({'predicted': y_pred, 'actual': y_true}, columns=['predicted', 'actual'])\n",
    "    result\n",
    "    fn = result[result['actual'] > threshold]\n",
    "    fn = fn[round(fn['predicted'],1) <= threshold]\n",
    "    fnr = len(fn)/len(result[result['actual'] > threshold])\n",
    "    print(f'False negative rate is : {fnr}')\n",
    "\n",
    "    fp = result[result['actual'] == threshold]\n",
    "    fp = fp[round(fp['predicted'],1) > threshold]\n",
    "    fpr = len(fp)/len(result[result['actual'] == threshold])\n",
    "    print(f'False positive rate (FP/FP+TN) is : {fpr}')"
   ]
  },
  {
   "cell_type": "code",
   "execution_count": 7,
   "metadata": {},
   "outputs": [],
   "source": [
    "test_dataset = pd.read_csv(\"sliding_window_data.csv\", header=0, nrows=5_000_000, skiprows=range(1,10_000_000))\n",
    "drop_cols = [\"date\",\"time\",\"station\"]\n",
    "for i in range(1,7):\n",
    "    for j in range(1,7):\n",
    "        drop_cols.append(f\"T{i}S{j}_station number\")\n",
    "test_dataset.drop(drop_cols, axis=1, inplace=True)\n",
    "test_dataset.fillna(value=0, inplace=True)"
   ]
  },
  {
   "cell_type": "code",
   "execution_count": 8,
   "metadata": {},
   "outputs": [],
   "source": [
    "prediction_base = regression_model.predict(test_dataset.iloc[:,1:])"
   ]
  },
  {
   "cell_type": "code",
   "execution_count": 9,
   "metadata": {},
   "outputs": [
    {
     "name": "stdout",
     "output_type": "stream",
     "text": [
      "R2 score is : -0.021399897507405896\n",
      "MAE is : 0.1137264995162555\n",
      "MSE is : 0.07751863237041332\n",
      "False negative rate is : 0.006280711094484054\n",
      "False positive rate (FP/FP+TN) is : 0.9987685668986421\n"
     ]
    }
   ],
   "source": [
    "display_metrics(prediction_base,test_dataset.iloc[:,0])"
   ]
  },
  {
   "attachments": {},
   "cell_type": "markdown",
   "metadata": {},
   "source": [
    "#### Hyper parameter tuning"
   ]
  },
  {
   "cell_type": "code",
   "execution_count": 46,
   "metadata": {},
   "outputs": [],
   "source": [
    "sample_size = 2000000\n",
    "sample_data = pd.read_csv(\"sliding_window_data.csv\", header=0, nrows=sample_size, skiprows=range(1,3101888))"
   ]
  },
  {
   "cell_type": "code",
   "execution_count": 47,
   "metadata": {},
   "outputs": [],
   "source": [
    "drop_cols = [\"date\",\"time\",\"station\"]\n",
    "for i in range(1,7):\n",
    "    for j in range(1,7):\n",
    "        drop_cols.append(f\"T{i}S{j}_station number\")\n",
    "sample_data.drop(drop_cols, axis=1, inplace=True)\n",
    "sample_data.fillna(value=0, inplace=True)"
   ]
  },
  {
   "cell_type": "code",
   "execution_count": 48,
   "metadata": {},
   "outputs": [],
   "source": [
    "train, test = train_test_split(sample_data, test_size=0.2, random_state=seed, shuffle=True)"
   ]
  },
  {
   "cell_type": "code",
   "execution_count": 49,
   "metadata": {},
   "outputs": [
    {
     "data": {
      "text/plain": [
       "array([0., 0., 0., ..., 0., 0., 0.])"
      ]
     },
     "execution_count": 49,
     "metadata": {},
     "output_type": "execute_result"
    }
   ],
   "source": [
    "train.iloc[:,0].values"
   ]
  },
  {
   "cell_type": "code",
   "execution_count": 50,
   "metadata": {},
   "outputs": [
    {
     "name": "stdout",
     "output_type": "stream",
     "text": [
      "Fitting 5 folds for each of 7 candidates, totalling 35 fits\n"
     ]
    },
    {
     "data": {
      "text/html": [
       "<style>#sk-container-id-4 {color: black;background-color: white;}#sk-container-id-4 pre{padding: 0;}#sk-container-id-4 div.sk-toggleable {background-color: white;}#sk-container-id-4 label.sk-toggleable__label {cursor: pointer;display: block;width: 100%;margin-bottom: 0;padding: 0.3em;box-sizing: border-box;text-align: center;}#sk-container-id-4 label.sk-toggleable__label-arrow:before {content: \"▸\";float: left;margin-right: 0.25em;color: #696969;}#sk-container-id-4 label.sk-toggleable__label-arrow:hover:before {color: black;}#sk-container-id-4 div.sk-estimator:hover label.sk-toggleable__label-arrow:before {color: black;}#sk-container-id-4 div.sk-toggleable__content {max-height: 0;max-width: 0;overflow: hidden;text-align: left;background-color: #f0f8ff;}#sk-container-id-4 div.sk-toggleable__content pre {margin: 0.2em;color: black;border-radius: 0.25em;background-color: #f0f8ff;}#sk-container-id-4 input.sk-toggleable__control:checked~div.sk-toggleable__content {max-height: 200px;max-width: 100%;overflow: auto;}#sk-container-id-4 input.sk-toggleable__control:checked~label.sk-toggleable__label-arrow:before {content: \"▾\";}#sk-container-id-4 div.sk-estimator input.sk-toggleable__control:checked~label.sk-toggleable__label {background-color: #d4ebff;}#sk-container-id-4 div.sk-label input.sk-toggleable__control:checked~label.sk-toggleable__label {background-color: #d4ebff;}#sk-container-id-4 input.sk-hidden--visually {border: 0;clip: rect(1px 1px 1px 1px);clip: rect(1px, 1px, 1px, 1px);height: 1px;margin: -1px;overflow: hidden;padding: 0;position: absolute;width: 1px;}#sk-container-id-4 div.sk-estimator {font-family: monospace;background-color: #f0f8ff;border: 1px dotted black;border-radius: 0.25em;box-sizing: border-box;margin-bottom: 0.5em;}#sk-container-id-4 div.sk-estimator:hover {background-color: #d4ebff;}#sk-container-id-4 div.sk-parallel-item::after {content: \"\";width: 100%;border-bottom: 1px solid gray;flex-grow: 1;}#sk-container-id-4 div.sk-label:hover label.sk-toggleable__label {background-color: #d4ebff;}#sk-container-id-4 div.sk-serial::before {content: \"\";position: absolute;border-left: 1px solid gray;box-sizing: border-box;top: 0;bottom: 0;left: 50%;z-index: 0;}#sk-container-id-4 div.sk-serial {display: flex;flex-direction: column;align-items: center;background-color: white;padding-right: 0.2em;padding-left: 0.2em;position: relative;}#sk-container-id-4 div.sk-item {position: relative;z-index: 1;}#sk-container-id-4 div.sk-parallel {display: flex;align-items: stretch;justify-content: center;background-color: white;position: relative;}#sk-container-id-4 div.sk-item::before, #sk-container-id-4 div.sk-parallel-item::before {content: \"\";position: absolute;border-left: 1px solid gray;box-sizing: border-box;top: 0;bottom: 0;left: 50%;z-index: -1;}#sk-container-id-4 div.sk-parallel-item {display: flex;flex-direction: column;z-index: 1;position: relative;background-color: white;}#sk-container-id-4 div.sk-parallel-item:first-child::after {align-self: flex-end;width: 50%;}#sk-container-id-4 div.sk-parallel-item:last-child::after {align-self: flex-start;width: 50%;}#sk-container-id-4 div.sk-parallel-item:only-child::after {width: 0;}#sk-container-id-4 div.sk-dashed-wrapped {border: 1px dashed gray;margin: 0 0.4em 0.5em 0.4em;box-sizing: border-box;padding-bottom: 0.4em;background-color: white;}#sk-container-id-4 div.sk-label label {font-family: monospace;font-weight: bold;display: inline-block;line-height: 1.2em;}#sk-container-id-4 div.sk-label-container {text-align: center;}#sk-container-id-4 div.sk-container {/* jupyter's `normalize.less` sets `[hidden] { display: none; }` but bootstrap.min.css set `[hidden] { display: none !important; }` so we also need the `!important` here to be able to override the default hidden behavior on the sphinx rendered scikit-learn.org. See: https://github.com/scikit-learn/scikit-learn/issues/21755 */display: inline-block !important;position: relative;}#sk-container-id-4 div.sk-text-repr-fallback {display: none;}</style><div id=\"sk-container-id-4\" class=\"sk-top-container\"><div class=\"sk-text-repr-fallback\"><pre>GridSearchCV(estimator=PassiveAggressiveRegressor(random_state=3101), n_jobs=10,\n",
       "             param_grid={&#x27;C&#x27;: [0.01, 0.05, 0.1, 0.5, 1.0, 1.5, 2.0]},\n",
       "             return_train_score=True, verbose=10)</pre><b>In a Jupyter environment, please rerun this cell to show the HTML representation or trust the notebook. <br />On GitHub, the HTML representation is unable to render, please try loading this page with nbviewer.org.</b></div><div class=\"sk-container\" hidden><div class=\"sk-item sk-dashed-wrapped\"><div class=\"sk-label-container\"><div class=\"sk-label sk-toggleable\"><input class=\"sk-toggleable__control sk-hidden--visually\" id=\"sk-estimator-id-10\" type=\"checkbox\" ><label for=\"sk-estimator-id-10\" class=\"sk-toggleable__label sk-toggleable__label-arrow\">GridSearchCV</label><div class=\"sk-toggleable__content\"><pre>GridSearchCV(estimator=PassiveAggressiveRegressor(random_state=3101), n_jobs=10,\n",
       "             param_grid={&#x27;C&#x27;: [0.01, 0.05, 0.1, 0.5, 1.0, 1.5, 2.0]},\n",
       "             return_train_score=True, verbose=10)</pre></div></div></div><div class=\"sk-parallel\"><div class=\"sk-parallel-item\"><div class=\"sk-item\"><div class=\"sk-label-container\"><div class=\"sk-label sk-toggleable\"><input class=\"sk-toggleable__control sk-hidden--visually\" id=\"sk-estimator-id-11\" type=\"checkbox\" ><label for=\"sk-estimator-id-11\" class=\"sk-toggleable__label sk-toggleable__label-arrow\">estimator: PassiveAggressiveRegressor</label><div class=\"sk-toggleable__content\"><pre>PassiveAggressiveRegressor(random_state=3101)</pre></div></div></div><div class=\"sk-serial\"><div class=\"sk-item\"><div class=\"sk-estimator sk-toggleable\"><input class=\"sk-toggleable__control sk-hidden--visually\" id=\"sk-estimator-id-12\" type=\"checkbox\" ><label for=\"sk-estimator-id-12\" class=\"sk-toggleable__label sk-toggleable__label-arrow\">PassiveAggressiveRegressor</label><div class=\"sk-toggleable__content\"><pre>PassiveAggressiveRegressor(random_state=3101)</pre></div></div></div></div></div></div></div></div></div></div>"
      ],
      "text/plain": [
       "GridSearchCV(estimator=PassiveAggressiveRegressor(random_state=3101), n_jobs=10,\n",
       "             param_grid={'C': [0.01, 0.05, 0.1, 0.5, 1.0, 1.5, 2.0]},\n",
       "             return_train_score=True, verbose=10)"
      ]
     },
     "execution_count": 50,
     "metadata": {},
     "output_type": "execute_result"
    }
   ],
   "source": [
    "par = PassiveAggressiveRegressor(random_state=seed, shuffle=True)\n",
    "param_list = {\"C\":[0.01, 0.05, 0.1, 0.5, 1.0, 1.5, 2.0]}\n",
    "\n",
    "gridCV = GridSearchCV(estimator=par, param_grid=param_list, verbose=10, return_train_score=True, n_jobs=10, refit=True)\n",
    "gridCV.fit(train.iloc[:,1:].values, train.iloc[:,0].values)\n"
   ]
  },
  {
   "cell_type": "code",
   "execution_count": 51,
   "metadata": {},
   "outputs": [
    {
     "data": {
      "text/plain": [
       "{'mean_fit_time': array([140.00676675, 232.16033106,  41.2871768 ,  32.2199295 ,\n",
       "         27.02188406,  21.62916765,  14.64967709]),\n",
       " 'std_fit_time': array([73.0610917 , 60.85381696,  3.82128928, 10.76089808,  5.13222943,\n",
       "         5.31280306,  5.2167164 ]),\n",
       " 'mean_score_time': array([4.43432217, 3.07508221, 0.42871757, 0.70129609, 2.45876045,\n",
       "        1.4311995 , 0.19010077]),\n",
       " 'std_score_time': array([3.03711246, 2.7261403 , 0.12104769, 0.52798516, 3.71874702,\n",
       "        2.08347441, 0.01836753]),\n",
       " 'param_C': masked_array(data=[0.01, 0.05, 0.1, 0.5, 1.0, 1.5, 2.0],\n",
       "              mask=[False, False, False, False, False, False, False],\n",
       "        fill_value='?',\n",
       "             dtype=object),\n",
       " 'params': [{'C': 0.01},\n",
       "  {'C': 0.05},\n",
       "  {'C': 0.1},\n",
       "  {'C': 0.5},\n",
       "  {'C': 1.0},\n",
       "  {'C': 1.5},\n",
       "  {'C': 2.0}],\n",
       " 'split0_test_score': array([-0.09911644, -0.09911644, -0.09911644, -0.09911644, -0.09911644,\n",
       "        -0.09911644, -0.09911644]),\n",
       " 'split1_test_score': array([0.0013623, 0.0013623, 0.0013623, 0.0013623, 0.0013623, 0.0013623,\n",
       "        0.0013623]),\n",
       " 'split2_test_score': array([-0.00828864, -0.00828864, -0.00828864, -0.00828864, -0.00828864,\n",
       "        -0.00828864, -0.00828864]),\n",
       " 'split3_test_score': array([-0.00957017, -0.00957017, -0.00957017, -0.00957017, -0.00957017,\n",
       "        -0.00957017, -0.00957017]),\n",
       " 'split4_test_score': array([0.00080871, 0.00080871, 0.00080871, 0.00080871, 0.00080871,\n",
       "        0.00080871, 0.00080871]),\n",
       " 'mean_test_score': array([-0.02296085, -0.02296085, -0.02296085, -0.02296085, -0.02296085,\n",
       "        -0.02296085, -0.02296085]),\n",
       " 'std_test_score': array([0.03834284, 0.03834284, 0.03834284, 0.03834284, 0.03834284,\n",
       "        0.03834284, 0.03834284]),\n",
       " 'rank_test_score': array([1, 1, 1, 1, 1, 1, 1]),\n",
       " 'split0_train_score': array([-0.09241403, -0.09241403, -0.09241403, -0.09241403, -0.09241403,\n",
       "        -0.09241403, -0.09241403]),\n",
       " 'split1_train_score': array([0.01204882, 0.01204882, 0.01204882, 0.01204882, 0.01204882,\n",
       "        0.01204882, 0.01204882]),\n",
       " 'split2_train_score': array([-0.00879862, -0.00879862, -0.00879862, -0.00879862, -0.00879862,\n",
       "        -0.00879862, -0.00879862]),\n",
       " 'split3_train_score': array([-0.00865936, -0.00865936, -0.00865936, -0.00865936, -0.00865936,\n",
       "        -0.00865936, -0.00865936]),\n",
       " 'split4_train_score': array([-0.01000616, -0.01000616, -0.01000616, -0.01000616, -0.01000616,\n",
       "        -0.01000616, -0.01000616]),\n",
       " 'mean_train_score': array([-0.02156587, -0.02156587, -0.02156587, -0.02156587, -0.02156587,\n",
       "        -0.02156587, -0.02156587]),\n",
       " 'std_train_score': array([0.03636651, 0.03636651, 0.03636651, 0.03636651, 0.03636651,\n",
       "        0.03636651, 0.03636651])}"
      ]
     },
     "execution_count": 51,
     "metadata": {},
     "output_type": "execute_result"
    }
   ],
   "source": [
    "gridCV.cv_results_"
   ]
  },
  {
   "cell_type": "code",
   "execution_count": 54,
   "metadata": {},
   "outputs": [
    {
     "data": {
      "text/plain": [
       "{'C': 0.01}"
      ]
     },
     "execution_count": 54,
     "metadata": {},
     "output_type": "execute_result"
    }
   ],
   "source": [
    "gridCV.best_params_"
   ]
  },
  {
   "attachments": {},
   "cell_type": "markdown",
   "metadata": {},
   "source": [
    "#### Fitting a new Passive Aggressive Regressor with the best params from hyperparamater tuning"
   ]
  },
  {
   "attachments": {},
   "cell_type": "markdown",
   "metadata": {},
   "source": [
    "#### Re-generate train dataset iterator"
   ]
  },
  {
   "cell_type": "code",
   "execution_count": 10,
   "metadata": {},
   "outputs": [],
   "source": [
    "sliding_window_data = pd.read_csv(\"sliding_window_data.csv\", chunksize=chunksize, iterator=True, skiprows=test_index)"
   ]
  },
  {
   "cell_type": "code",
   "execution_count": 11,
   "metadata": {},
   "outputs": [
    {
     "name": "stderr",
     "output_type": "stream",
     "text": [
      "21it [10:22, 29.62s/it]\n"
     ]
    }
   ],
   "source": [
    "regression_model_hyper = PassiveAggressiveRegressor(C=0.01,random_state=seed, shuffle=True)\n",
    "for batch in tqdm(sliding_window_data):\n",
    "    drop_cols = [\"date\",\"time\",\"station\"]\n",
    "    for i in range(1,7):\n",
    "        for j in range(1,7):\n",
    "            drop_cols.append(f\"T{i}S{j}_station number\")\n",
    "    batch.drop(drop_cols, axis=1, inplace=True)\n",
    "    batch.fillna(value=0, inplace=True)\n",
    "    regression_model_hyper.partial_fit(batch.iloc[:,1:], batch.iloc[:,0])"
   ]
  },
  {
   "cell_type": "code",
   "execution_count": 12,
   "metadata": {},
   "outputs": [
    {
     "name": "stdout",
     "output_type": "stream",
     "text": [
      "R2 score is : -0.021399897507405896\n",
      "MAE is : 0.1137264995162555\n",
      "MSE is : 0.07751863237041332\n",
      "False negative rate is : 0.006280711094484054\n",
      "False positive rate (FP/FP+TN) is : 0.9987685668986421\n"
     ]
    }
   ],
   "source": [
    "prediction_hyper = regression_model_hyper.predict(test_dataset.iloc[:,1:])\n",
    "display_metrics(prediction_hyper,test_dataset.iloc[:,0])"
   ]
  },
  {
   "attachments": {},
   "cell_type": "markdown",
   "metadata": {},
   "source": [
    "#### Visualize Variable importance"
   ]
  },
  {
   "cell_type": "code",
   "execution_count": 138,
   "metadata": {},
   "outputs": [],
   "source": [
    "features = list(test_dataset.keys())\n",
    "features.remove(\"value\")"
   ]
  },
  {
   "cell_type": "code",
   "execution_count": 139,
   "metadata": {},
   "outputs": [],
   "source": [
    "hyper_model_coeffs = pd.DataFrame(regression_model_hyper.coef_,index=features,columns=[\"predict\"])\n",
    "# hyper_model_coeffs = hyper_model_coeffs[abs(hyper_model_coeffs[\"predict\"])>= 0.001]\n",
    "hyper_model_coeffs = hyper_model_coeffs[abs(hyper_model_coeffs[\"predict\"])>= 0.005]\n",
    "# hyper_model_coeffs = hyper_model_coeffs.apply(abs, axis=1)\n",
    "hyper_model_coeffs = hyper_model_coeffs.sort_values(by=[\"predict\"],ascending=True)\n",
    "\n",
    "colors = 9*[\"red\"] + 12*[\"green\"]\n",
    "# hyper_model_coeffs = hyper_model_coeffs.head(5)\n",
    "x,y = zip(*hyper_model_coeffs[\"predict\"].items())\n"
   ]
  },
  {
   "cell_type": "code",
   "execution_count": 140,
   "metadata": {},
   "outputs": [
    {
     "data": {
      "image/png": "[encoded data removed]",
      "text/plain": [
       "<Figure size 500x500 with 1 Axes>"
      ]
     },
     "metadata": {},
     "output_type": "display_data"
    }
   ],
   "source": [
    "plt.figure(figsize=(5,5))\n",
    "plt.barh(x,y,color=colors)\n",
    "plt.yticks()\n",
    "plt.title(\"Value of Coefficient in fitted model (| |>=0.005)\")\n",
    "plt.xlabel(\"Coefficient value in fitted model\")\n",
    "plt.ylabel(\"Feature\")\n",
    "plt.show()"
   ]
  }
 ],
 "metadata": {
  "kernelspec": {
   "display_name": "rainEnv",
   "language": "python",
   "name": "python3"
  },
  "language_info": {
   "codemirror_mode": {
    "name": "ipython",
    "version": 3
   },
   "file_extension": ".py",
   "mimetype": "text/x-python",
   "name": "python",
   "nbconvert_exporter": "python",
   "pygments_lexer": "ipython3",
   "version": "3.10.2"
  },
  "orig_nbformat": 4
 },
 "nbformat": 4,
 "nbformat_minor": 2
}
