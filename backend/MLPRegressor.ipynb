{
 "cells": [
  {
   "cell_type": "code",
   "execution_count": 1,
   "metadata": {},
   "outputs": [
    {
     "name": "stderr",
     "output_type": "stream",
     "text": [
      "C:\\Users\\Edward\\AppData\\Local\\Temp\\ipykernel_37852\\3438410209.py:8: TqdmWarning: IProgress not found. Please update jupyter and ipywidgets. See https://ipywidgets.readthedocs.io/en/stable/user_install.html\n",
      "  from tqdm.autonotebook import tqdm\n"
     ]
    }
   ],
   "source": [
    "import pandas as pd\n",
    "import datetime\n",
    "import numpy as np\n",
    "from sklearn.model_selection import GridSearchCV\n",
    "from sklearn.model_selection import train_test_split\n",
    "import sklearn.metrics as sm\n",
    "from sklearn.neural_network import MLPRegressor\n",
    "from tqdm.autonotebook import tqdm"
   ]
  },
  {
   "cell_type": "code",
   "execution_count": 2,
   "metadata": {},
   "outputs": [],
   "source": [
    "chunksize = 1000000\n",
    "sliding_window_data = pd.read_csv(\"sliding_window_data.csv\", chunksize=chunksize, iterator=True)"
   ]
  },
  {
   "cell_type": "markdown",
   "metadata": {},
   "source": [
    "#### Setting Seed value"
   ]
  },
  {
   "cell_type": "code",
   "execution_count": 3,
   "metadata": {},
   "outputs": [],
   "source": [
    "seed = 3101\n",
    "np.random.seed(3101)"
   ]
  },
  {
   "cell_type": "code",
   "execution_count": 4,
   "metadata": {},
   "outputs": [],
   "source": [
    "drop_cols = [\"date\",\"time\",\"station\"]\n",
    "for i in range(1,7):\n",
    "    for j in range(1,7):\n",
    "        drop_cols.append(f\"T{i}S{j}_station number\")"
   ]
  },
  {
   "cell_type": "code",
   "execution_count": 5,
   "metadata": {},
   "outputs": [
    {
     "name": "stderr",
     "output_type": "stream",
     "text": [
      "16it [22:43, 85.24s/it]\n"
     ]
    },
    {
     "ename": "KeyboardInterrupt",
     "evalue": "",
     "output_type": "error",
     "traceback": [
      "\u001b[1;31m---------------------------------------------------------------------------\u001b[0m",
      "\u001b[1;31mKeyboardInterrupt\u001b[0m                         Traceback (most recent call last)",
      "Cell \u001b[1;32mIn[5], line 2\u001b[0m\n\u001b[0;32m      1\u001b[0m regression_model \u001b[39m=\u001b[39m MLPRegressor(random_state\u001b[39m=\u001b[39mseed, shuffle\u001b[39m=\u001b[39m\u001b[39mTrue\u001b[39;00m)\n\u001b[1;32m----> 2\u001b[0m \u001b[39mfor\u001b[39;00m batch \u001b[39min\u001b[39;00m tqdm(sliding_window_data):\n\u001b[0;32m      3\u001b[0m     drop_cols \u001b[39m=\u001b[39m [\u001b[39m\"\u001b[39m\u001b[39mdate\u001b[39m\u001b[39m\"\u001b[39m,\u001b[39m\"\u001b[39m\u001b[39mtime\u001b[39m\u001b[39m\"\u001b[39m,\u001b[39m\"\u001b[39m\u001b[39mstation\u001b[39m\u001b[39m\"\u001b[39m]\n\u001b[0;32m      4\u001b[0m     \u001b[39mfor\u001b[39;00m i \u001b[39min\u001b[39;00m \u001b[39mrange\u001b[39m(\u001b[39m1\u001b[39m,\u001b[39m7\u001b[39m):\n",
      "File \u001b[1;32mc:\\NUS\\Year 3\\Sem 2\\DSA3101\\Rainfall project\\dsa3101-2220-11-rain\\rainEnv\\lib\\site-packages\\tqdm\\std.py:1178\u001b[0m, in \u001b[0;36mtqdm.__iter__\u001b[1;34m(self)\u001b[0m\n\u001b[0;32m   1175\u001b[0m time \u001b[39m=\u001b[39m \u001b[39mself\u001b[39m\u001b[39m.\u001b[39m_time\n\u001b[0;32m   1177\u001b[0m \u001b[39mtry\u001b[39;00m:\n\u001b[1;32m-> 1178\u001b[0m     \u001b[39mfor\u001b[39;00m obj \u001b[39min\u001b[39;00m iterable:\n\u001b[0;32m   1179\u001b[0m         \u001b[39myield\u001b[39;00m obj\n\u001b[0;32m   1180\u001b[0m         \u001b[39m# Update and possibly print the progressbar.\u001b[39;00m\n\u001b[0;32m   1181\u001b[0m         \u001b[39m# Note: does not call self.update(1) for speed optimisation.\u001b[39;00m\n",
      "File \u001b[1;32mc:\\NUS\\Year 3\\Sem 2\\DSA3101\\Rainfall project\\dsa3101-2220-11-rain\\rainEnv\\lib\\site-packages\\pandas\\io\\parsers\\readers.py:1698\u001b[0m, in \u001b[0;36mTextFileReader.__next__\u001b[1;34m(self)\u001b[0m\n\u001b[0;32m   1696\u001b[0m \u001b[39mdef\u001b[39;00m \u001b[39m__next__\u001b[39m(\u001b[39mself\u001b[39m) \u001b[39m-\u001b[39m\u001b[39m>\u001b[39m DataFrame:\n\u001b[0;32m   1697\u001b[0m     \u001b[39mtry\u001b[39;00m:\n\u001b[1;32m-> 1698\u001b[0m         \u001b[39mreturn\u001b[39;00m \u001b[39mself\u001b[39;49m\u001b[39m.\u001b[39;49mget_chunk()\n\u001b[0;32m   1699\u001b[0m     \u001b[39mexcept\u001b[39;00m \u001b[39mStopIteration\u001b[39;00m:\n\u001b[0;32m   1700\u001b[0m         \u001b[39mself\u001b[39m\u001b[39m.\u001b[39mclose()\n",
      "File \u001b[1;32mc:\\NUS\\Year 3\\Sem 2\\DSA3101\\Rainfall project\\dsa3101-2220-11-rain\\rainEnv\\lib\\site-packages\\pandas\\io\\parsers\\readers.py:1810\u001b[0m, in \u001b[0;36mTextFileReader.get_chunk\u001b[1;34m(self, size)\u001b[0m\n\u001b[0;32m   1808\u001b[0m         \u001b[39mraise\u001b[39;00m \u001b[39mStopIteration\u001b[39;00m\n\u001b[0;32m   1809\u001b[0m     size \u001b[39m=\u001b[39m \u001b[39mmin\u001b[39m(size, \u001b[39mself\u001b[39m\u001b[39m.\u001b[39mnrows \u001b[39m-\u001b[39m \u001b[39mself\u001b[39m\u001b[39m.\u001b[39m_currow)\n\u001b[1;32m-> 1810\u001b[0m \u001b[39mreturn\u001b[39;00m \u001b[39mself\u001b[39;49m\u001b[39m.\u001b[39;49mread(nrows\u001b[39m=\u001b[39;49msize)\n",
      "File \u001b[1;32mc:\\NUS\\Year 3\\Sem 2\\DSA3101\\Rainfall project\\dsa3101-2220-11-rain\\rainEnv\\lib\\site-packages\\pandas\\io\\parsers\\readers.py:1795\u001b[0m, in \u001b[0;36mTextFileReader.read\u001b[1;34m(self, nrows)\u001b[0m\n\u001b[0;32m   1792\u001b[0m     \u001b[39melse\u001b[39;00m:\n\u001b[0;32m   1793\u001b[0m         new_rows \u001b[39m=\u001b[39m \u001b[39mlen\u001b[39m(index)\n\u001b[1;32m-> 1795\u001b[0m     df \u001b[39m=\u001b[39m DataFrame(col_dict, columns\u001b[39m=\u001b[39;49mcolumns, index\u001b[39m=\u001b[39;49mindex)\n\u001b[0;32m   1797\u001b[0m     \u001b[39mself\u001b[39m\u001b[39m.\u001b[39m_currow \u001b[39m+\u001b[39m\u001b[39m=\u001b[39m new_rows\n\u001b[0;32m   1799\u001b[0m \u001b[39mif\u001b[39;00m \u001b[39mself\u001b[39m\u001b[39m.\u001b[39msqueeze \u001b[39mand\u001b[39;00m \u001b[39mlen\u001b[39m(df\u001b[39m.\u001b[39mcolumns) \u001b[39m==\u001b[39m \u001b[39m1\u001b[39m:\n",
      "File \u001b[1;32mc:\\NUS\\Year 3\\Sem 2\\DSA3101\\Rainfall project\\dsa3101-2220-11-rain\\rainEnv\\lib\\site-packages\\pandas\\core\\frame.py:664\u001b[0m, in \u001b[0;36mDataFrame.__init__\u001b[1;34m(self, data, index, columns, dtype, copy)\u001b[0m\n\u001b[0;32m    658\u001b[0m     mgr \u001b[39m=\u001b[39m \u001b[39mself\u001b[39m\u001b[39m.\u001b[39m_init_mgr(\n\u001b[0;32m    659\u001b[0m         data, axes\u001b[39m=\u001b[39m{\u001b[39m\"\u001b[39m\u001b[39mindex\u001b[39m\u001b[39m\"\u001b[39m: index, \u001b[39m\"\u001b[39m\u001b[39mcolumns\u001b[39m\u001b[39m\"\u001b[39m: columns}, dtype\u001b[39m=\u001b[39mdtype, copy\u001b[39m=\u001b[39mcopy\n\u001b[0;32m    660\u001b[0m     )\n\u001b[0;32m    662\u001b[0m \u001b[39melif\u001b[39;00m \u001b[39misinstance\u001b[39m(data, \u001b[39mdict\u001b[39m):\n\u001b[0;32m    663\u001b[0m     \u001b[39m# GH#38939 de facto copy defaults to False only in non-dict cases\u001b[39;00m\n\u001b[1;32m--> 664\u001b[0m     mgr \u001b[39m=\u001b[39m dict_to_mgr(data, index, columns, dtype\u001b[39m=\u001b[39;49mdtype, copy\u001b[39m=\u001b[39;49mcopy, typ\u001b[39m=\u001b[39;49mmanager)\n\u001b[0;32m    665\u001b[0m \u001b[39melif\u001b[39;00m \u001b[39misinstance\u001b[39m(data, ma\u001b[39m.\u001b[39mMaskedArray):\n\u001b[0;32m    666\u001b[0m     \u001b[39mimport\u001b[39;00m \u001b[39mnumpy\u001b[39;00m\u001b[39m.\u001b[39;00m\u001b[39mma\u001b[39;00m\u001b[39m.\u001b[39;00m\u001b[39mmrecords\u001b[39;00m \u001b[39mas\u001b[39;00m \u001b[39mmrecords\u001b[39;00m\n",
      "File \u001b[1;32mc:\\NUS\\Year 3\\Sem 2\\DSA3101\\Rainfall project\\dsa3101-2220-11-rain\\rainEnv\\lib\\site-packages\\pandas\\core\\internals\\construction.py:493\u001b[0m, in \u001b[0;36mdict_to_mgr\u001b[1;34m(data, index, columns, dtype, typ, copy)\u001b[0m\n\u001b[0;32m    489\u001b[0m     \u001b[39melse\u001b[39;00m:\n\u001b[0;32m    490\u001b[0m         \u001b[39m# dtype check to exclude e.g. range objects, scalars\u001b[39;00m\n\u001b[0;32m    491\u001b[0m         arrays \u001b[39m=\u001b[39m [x\u001b[39m.\u001b[39mcopy() \u001b[39mif\u001b[39;00m \u001b[39mhasattr\u001b[39m(x, \u001b[39m\"\u001b[39m\u001b[39mdtype\u001b[39m\u001b[39m\"\u001b[39m) \u001b[39melse\u001b[39;00m x \u001b[39mfor\u001b[39;00m x \u001b[39min\u001b[39;00m arrays]\n\u001b[1;32m--> 493\u001b[0m \u001b[39mreturn\u001b[39;00m arrays_to_mgr(arrays, columns, index, dtype\u001b[39m=\u001b[39;49mdtype, typ\u001b[39m=\u001b[39;49mtyp, consolidate\u001b[39m=\u001b[39;49mcopy)\n",
      "\u001b[1;31mKeyboardInterrupt\u001b[0m: "
     ]
    }
   ],
   "source": [
    "regression_model = MLPRegressor(random_state=seed, shuffle=True)\n",
    "for batch in tqdm(sliding_window_data):\n",
    "    drop_cols = [\"date\",\"time\",\"station\"]\n",
    "    for i in range(1,7):\n",
    "        for j in range(1,7):\n",
    "            drop_cols.append(f\"T{i}S{j}_station number\")\n",
    "    batch.drop(drop_cols, axis=1, inplace=True)\n",
    "    batch.fillna(value=0, inplace=True)\n",
    "    regression_model.partial_fit(batch.iloc[:,1:], batch.iloc[:,0])"
   ]
  },
  {
   "cell_type": "code",
   "execution_count": null,
   "metadata": {},
   "outputs": [],
   "source": [
    "random_skips = np.random.randint(1,chunksize,size=3101)\n",
    "test_data = pd.read_csv(\"sliding_window_data.csv\", header=0, nrows=chunksize, skiprows=random_skips)\n",
    "drop_cols = [\"date\",\"time\",\"station\"]\n",
    "for i in range(1,7):\n",
    "    for j in range(1,7):\n",
    "        drop_cols.append(f\"T{i}S{j}_station number\")\n",
    "test_data.drop(drop_cols, axis=1, inplace=True)\n",
    "test_data.fillna(value=0, inplace=True)"
   ]
  },
  {
   "cell_type": "code",
   "execution_count": null,
   "metadata": {},
   "outputs": [],
   "source": [
    "prediction = regression_model.predict(test_data.iloc[:,1:])"
   ]
  },
  {
   "cell_type": "code",
   "execution_count": null,
   "metadata": {},
   "outputs": [],
   "source": [
    "def display_metrics(y_pred,y_true):\n",
    "    print(f'R2 score is : {sm.r2_score(y_true,y_pred)}')\n",
    "    print(f'MAE is : {sm.mean_absolute_error(y_true,y_pred)}')\n",
    "    print(f'MSE is : {sm.mean_squared_error(y_true,y_pred)}')\n",
    "    \n",
    "    threshold = 0.0\n",
    "    temp = pd.concat([pd.DataFrame(prediction, columns=[\"predict\"]),y_true], axis=1)\n",
    "    temp[\"predict\"].round(decimals=1)\n",
    "    fn = temp[temp[\"value\"] > threshold]\n",
    "    fn = fn[fn[\"predict\"] <= threshold ]\n",
    "    p = y_true[y_true > threshold]\n",
    "    fnr = len(fn)/len(p)\n",
    "    recall = 1-fnr\n",
    "    print(f'Recall is : {recall}')\n",
    "    print(f'False negative rate is : {fnr}')\n",
    "\n",
    "    tn = temp[temp[\"value\"] <= threshold]\n",
    "    tn = tn[tn[\"predict\"] <= threshold ]\n",
    "    fp = temp[temp[\"value\"] <= threshold]\n",
    "    fp = fp[fp[\"predict\"] > threshold]\n",
    "    fpr = len(tn)/(len(tn) + len(fp))\n",
    "    print(f'False positive rate (FP/FP+TN) is : {fpr}')\n"
   ]
  },
  {
   "cell_type": "code",
   "execution_count": null,
   "metadata": {},
   "outputs": [
    {
     "name": "stdout",
     "output_type": "stream",
     "text": [
      "R2 score is : 0.03403117894629293\n",
      "MAE is : 0.030919457142454622\n",
      "MSE is : 0.06720268191664644\n",
      "Recall is : 0.9926425943783707\n",
      "False negative rate is : 0.0073574056216293435\n",
      "False positive rate (FP/FP+TN) is : 0.0035288029539064262\n"
     ]
    }
   ],
   "source": [
    "display_metrics(prediction,test_data.iloc[:,0])"
   ]
  },
  {
   "attachments": {},
   "cell_type": "markdown",
   "metadata": {},
   "source": [
    "#### Hyper parameter tuning\n",
    "Training on a subset of the data for faster performance"
   ]
  },
  {
   "cell_type": "code",
   "execution_count": 8,
   "metadata": {},
   "outputs": [],
   "source": [
    "sample_size = 1000000\n",
    "sample_data = pd.read_csv(\"sliding_window_data.csv\", header=0, nrows=sample_size, skiprows=range(1,3101888))"
   ]
  },
  {
   "cell_type": "code",
   "execution_count": 9,
   "metadata": {},
   "outputs": [],
   "source": [
    "drop_cols = [\"date\",\"time\",\"station\"]\n",
    "for i in range(1,7):\n",
    "    for j in range(1,7):\n",
    "        drop_cols.append(f\"T{i}S{j}_station number\")\n",
    "sample_data.drop(drop_cols, axis=1, inplace=True)\n",
    "sample_data.fillna(value=0, inplace=True)"
   ]
  },
  {
   "cell_type": "code",
   "execution_count": 10,
   "metadata": {},
   "outputs": [],
   "source": [
    "train, test = train_test_split(sample_data, test_size=0.2, random_state=seed, shuffle=True)"
   ]
  },
  {
   "cell_type": "code",
   "execution_count": 11,
   "metadata": {},
   "outputs": [
    {
     "data": {
      "text/plain": [
       "array([[-3.500000e+01,  1.176500e-04,  0.000000e+00, ..., -6.000000e+01,\n",
       "         0.000000e+00,  0.000000e+00],\n",
       "       [-3.500000e+01,  1.085396e-04,  0.000000e+00, ..., -6.000000e+01,\n",
       "         0.000000e+00,  0.000000e+00],\n",
       "       [-3.500000e+01,  1.176500e-04,  0.000000e+00, ..., -6.000000e+01,\n",
       "         0.000000e+00,  0.000000e+00],\n",
       "       ...,\n",
       "       [-3.500000e+01,  8.021000e-05,  0.000000e+00, ..., -6.000000e+01,\n",
       "         0.000000e+00,  0.000000e+00],\n",
       "       [-3.500000e+01,  1.085396e-04,  0.000000e+00, ..., -6.000000e+01,\n",
       "         0.000000e+00,  0.000000e+00],\n",
       "       [-3.500000e+01,  1.176500e-04,  0.000000e+00, ..., -6.000000e+01,\n",
       "         0.000000e+00,  0.000000e+00]])"
      ]
     },
     "execution_count": 11,
     "metadata": {},
     "output_type": "execute_result"
    }
   ],
   "source": [
    "train.iloc[:,1:].values"
   ]
  },
  {
   "cell_type": "code",
   "execution_count": 12,
   "metadata": {},
   "outputs": [
    {
     "name": "stdout",
     "output_type": "stream",
     "text": [
      "Fitting 5 folds for each of 24 candidates, totalling 120 fits\n"
     ]
    },
    {
     "data": {
      "text/html": [
       "<style>#sk-container-id-1 {color: black;background-color: white;}#sk-container-id-1 pre{padding: 0;}#sk-container-id-1 div.sk-toggleable {background-color: white;}#sk-container-id-1 label.sk-toggleable__label {cursor: pointer;display: block;width: 100%;margin-bottom: 0;padding: 0.3em;box-sizing: border-box;text-align: center;}#sk-container-id-1 label.sk-toggleable__label-arrow:before {content: \"▸\";float: left;margin-right: 0.25em;color: #696969;}#sk-container-id-1 label.sk-toggleable__label-arrow:hover:before {color: black;}#sk-container-id-1 div.sk-estimator:hover label.sk-toggleable__label-arrow:before {color: black;}#sk-container-id-1 div.sk-toggleable__content {max-height: 0;max-width: 0;overflow: hidden;text-align: left;background-color: #f0f8ff;}#sk-container-id-1 div.sk-toggleable__content pre {margin: 0.2em;color: black;border-radius: 0.25em;background-color: #f0f8ff;}#sk-container-id-1 input.sk-toggleable__control:checked~div.sk-toggleable__content {max-height: 200px;max-width: 100%;overflow: auto;}#sk-container-id-1 input.sk-toggleable__control:checked~label.sk-toggleable__label-arrow:before {content: \"▾\";}#sk-container-id-1 div.sk-estimator input.sk-toggleable__control:checked~label.sk-toggleable__label {background-color: #d4ebff;}#sk-container-id-1 div.sk-label input.sk-toggleable__control:checked~label.sk-toggleable__label {background-color: #d4ebff;}#sk-container-id-1 input.sk-hidden--visually {border: 0;clip: rect(1px 1px 1px 1px);clip: rect(1px, 1px, 1px, 1px);height: 1px;margin: -1px;overflow: hidden;padding: 0;position: absolute;width: 1px;}#sk-container-id-1 div.sk-estimator {font-family: monospace;background-color: #f0f8ff;border: 1px dotted black;border-radius: 0.25em;box-sizing: border-box;margin-bottom: 0.5em;}#sk-container-id-1 div.sk-estimator:hover {background-color: #d4ebff;}#sk-container-id-1 div.sk-parallel-item::after {content: \"\";width: 100%;border-bottom: 1px solid gray;flex-grow: 1;}#sk-container-id-1 div.sk-label:hover label.sk-toggleable__label {background-color: #d4ebff;}#sk-container-id-1 div.sk-serial::before {content: \"\";position: absolute;border-left: 1px solid gray;box-sizing: border-box;top: 0;bottom: 0;left: 50%;z-index: 0;}#sk-container-id-1 div.sk-serial {display: flex;flex-direction: column;align-items: center;background-color: white;padding-right: 0.2em;padding-left: 0.2em;position: relative;}#sk-container-id-1 div.sk-item {position: relative;z-index: 1;}#sk-container-id-1 div.sk-parallel {display: flex;align-items: stretch;justify-content: center;background-color: white;position: relative;}#sk-container-id-1 div.sk-item::before, #sk-container-id-1 div.sk-parallel-item::before {content: \"\";position: absolute;border-left: 1px solid gray;box-sizing: border-box;top: 0;bottom: 0;left: 50%;z-index: -1;}#sk-container-id-1 div.sk-parallel-item {display: flex;flex-direction: column;z-index: 1;position: relative;background-color: white;}#sk-container-id-1 div.sk-parallel-item:first-child::after {align-self: flex-end;width: 50%;}#sk-container-id-1 div.sk-parallel-item:last-child::after {align-self: flex-start;width: 50%;}#sk-container-id-1 div.sk-parallel-item:only-child::after {width: 0;}#sk-container-id-1 div.sk-dashed-wrapped {border: 1px dashed gray;margin: 0 0.4em 0.5em 0.4em;box-sizing: border-box;padding-bottom: 0.4em;background-color: white;}#sk-container-id-1 div.sk-label label {font-family: monospace;font-weight: bold;display: inline-block;line-height: 1.2em;}#sk-container-id-1 div.sk-label-container {text-align: center;}#sk-container-id-1 div.sk-container {/* jupyter's `normalize.less` sets `[hidden] { display: none; }` but bootstrap.min.css set `[hidden] { display: none !important; }` so we also need the `!important` here to be able to override the default hidden behavior on the sphinx rendered scikit-learn.org. See: https://github.com/scikit-learn/scikit-learn/issues/21755 */display: inline-block !important;position: relative;}#sk-container-id-1 div.sk-text-repr-fallback {display: none;}</style><div id=\"sk-container-id-1\" class=\"sk-top-container\"><div class=\"sk-text-repr-fallback\"><pre>GridSearchCV(estimator=MLPRegressor(random_state=3101), n_jobs=3,\n",
       "             param_grid={&#x27;activation&#x27;: [&#x27;logistic&#x27;, &#x27;relu&#x27;],\n",
       "                         &#x27;hidden_layer_sizes&#x27;: [(64,), (32,), (16,), (32, 64),\n",
       "                                                (16, 32), (128,)],\n",
       "                         &#x27;solver&#x27;: [&#x27;sgd&#x27;, &#x27;adam&#x27;]},\n",
       "             return_train_score=True, verbose=10)</pre><b>In a Jupyter environment, please rerun this cell to show the HTML representation or trust the notebook. <br />On GitHub, the HTML representation is unable to render, please try loading this page with nbviewer.org.</b></div><div class=\"sk-container\" hidden><div class=\"sk-item sk-dashed-wrapped\"><div class=\"sk-label-container\"><div class=\"sk-label sk-toggleable\"><input class=\"sk-toggleable__control sk-hidden--visually\" id=\"sk-estimator-id-1\" type=\"checkbox\" ><label for=\"sk-estimator-id-1\" class=\"sk-toggleable__label sk-toggleable__label-arrow\">GridSearchCV</label><div class=\"sk-toggleable__content\"><pre>GridSearchCV(estimator=MLPRegressor(random_state=3101), n_jobs=3,\n",
       "             param_grid={&#x27;activation&#x27;: [&#x27;logistic&#x27;, &#x27;relu&#x27;],\n",
       "                         &#x27;hidden_layer_sizes&#x27;: [(64,), (32,), (16,), (32, 64),\n",
       "                                                (16, 32), (128,)],\n",
       "                         &#x27;solver&#x27;: [&#x27;sgd&#x27;, &#x27;adam&#x27;]},\n",
       "             return_train_score=True, verbose=10)</pre></div></div></div><div class=\"sk-parallel\"><div class=\"sk-parallel-item\"><div class=\"sk-item\"><div class=\"sk-label-container\"><div class=\"sk-label sk-toggleable\"><input class=\"sk-toggleable__control sk-hidden--visually\" id=\"sk-estimator-id-2\" type=\"checkbox\" ><label for=\"sk-estimator-id-2\" class=\"sk-toggleable__label sk-toggleable__label-arrow\">estimator: MLPRegressor</label><div class=\"sk-toggleable__content\"><pre>MLPRegressor(random_state=3101)</pre></div></div></div><div class=\"sk-serial\"><div class=\"sk-item\"><div class=\"sk-estimator sk-toggleable\"><input class=\"sk-toggleable__control sk-hidden--visually\" id=\"sk-estimator-id-3\" type=\"checkbox\" ><label for=\"sk-estimator-id-3\" class=\"sk-toggleable__label sk-toggleable__label-arrow\">MLPRegressor</label><div class=\"sk-toggleable__content\"><pre>MLPRegressor(random_state=3101)</pre></div></div></div></div></div></div></div></div></div></div>"
      ],
      "text/plain": [
       "GridSearchCV(estimator=MLPRegressor(random_state=3101), n_jobs=3,\n",
       "             param_grid={'activation': ['logistic', 'relu'],\n",
       "                         'hidden_layer_sizes': [(64,), (32,), (16,), (32, 64),\n",
       "                                                (16, 32), (128,)],\n",
       "                         'solver': ['sgd', 'adam']},\n",
       "             return_train_score=True, verbose=10)"
      ]
     },
     "execution_count": 12,
     "metadata": {},
     "output_type": "execute_result"
    }
   ],
   "source": [
    "mlpr = MLPRegressor(random_state=seed, shuffle=True)\n",
    "param_list = {\"hidden_layer_sizes\": [(64,),(32,), (16,), (32,64), (16,32), (128,)], \"activation\": [\"logistic\", \"relu\"],\n",
    "              \"solver\": [\"sgd\", \"adam\"]}\n",
    "\n",
    "gridCV = GridSearchCV(estimator=mlpr, param_grid=param_list, verbose=10, return_train_score=True, n_jobs=3, refit=True)\n",
    "gridCV.fit(train.iloc[:,1:].values, train.iloc[:,0].values)\n"
   ]
  },
  {
   "cell_type": "code",
   "execution_count": 15,
   "metadata": {},
   "outputs": [
    {
     "data": {
      "text/plain": [
       "{'mean_fit_time': array([ 174.67565598,  161.4877439 ,  175.65035949,  116.5701314 ,\n",
       "         119.62938151,   47.94330602,  129.71486425,  139.04523106,\n",
       "          71.09157314,   64.89616046,  153.55541716,  179.73648434,\n",
       "         840.23184481,  584.70978827,  600.27960057,  428.92120748,\n",
       "         510.81619568,   49.19486008,  942.15984325,  263.40833902,\n",
       "          38.27595077,  137.87281265, 1147.1403965 ,  713.14008183]),\n",
       " 'std_fit_time': array([1.11274859e+01, 1.41429465e+01, 4.91472794e+01, 9.39660073e+00,\n",
       "        1.56367907e+01, 8.42186694e+00, 4.32783196e+00, 1.41824743e+01,\n",
       "        3.49712551e+00, 1.40794710e+00, 4.50001439e+00, 1.66632470e+01,\n",
       "        3.44349174e+01, 3.19805452e+01, 2.93086729e+01, 1.30732169e+01,\n",
       "        1.43024580e+01, 1.72301977e+00, 4.38147313e+02, 3.51607835e+01,\n",
       "        2.35853914e-01, 4.52815057e+01, 1.04614027e+01, 3.51501360e+01]),\n",
       " 'mean_score_time': array([1.21868005, 1.38646202, 0.70611916, 0.69608545, 0.34127231,\n",
       "        0.21599698, 1.50089884, 1.0962533 , 0.75852213, 0.6243813 ,\n",
       "        1.32014837, 1.70590005, 0.36303239, 2.92268119, 0.13412099,\n",
       "        1.60777402, 0.13677244, 0.51963887, 0.29658027, 1.38416896,\n",
       "        0.14027076, 0.79403586, 0.49350352, 5.20657902]),\n",
       " 'std_score_time': array([0.10590191, 0.08386075, 0.07887673, 0.08368768, 0.10653568,\n",
       "        0.02184687, 0.42016517, 0.06424994, 0.03028292, 0.056104  ,\n",
       "        0.03395881, 0.22066942, 0.28979733, 0.08820446, 0.00505764,\n",
       "        0.08866582, 0.03309276, 0.06328008, 0.10376924, 0.08220436,\n",
       "        0.00609372, 0.08069985, 0.12881628, 0.45116077]),\n",
       " 'param_activation': masked_array(data=['logistic', 'logistic', 'logistic', 'logistic',\n",
       "                    'logistic', 'logistic', 'logistic', 'logistic',\n",
       "                    'logistic', 'logistic', 'logistic', 'logistic', 'relu',\n",
       "                    'relu', 'relu', 'relu', 'relu', 'relu', 'relu', 'relu',\n",
       "                    'relu', 'relu', 'relu', 'relu'],\n",
       "              mask=[False, False, False, False, False, False, False, False,\n",
       "                    False, False, False, False, False, False, False, False,\n",
       "                    False, False, False, False, False, False, False, False],\n",
       "        fill_value='?',\n",
       "             dtype=object),\n",
       " 'param_hidden_layer_sizes': masked_array(data=[(64,), (64,), (32,), (32,), (16,), (16,), (32, 64),\n",
       "                    (32, 64), (16, 32), (16, 32), (128,), (128,), (64,),\n",
       "                    (64,), (32,), (32,), (16,), (16,), (32, 64), (32, 64),\n",
       "                    (16, 32), (16, 32), (128,), (128,)],\n",
       "              mask=[False, False, False, False, False, False, False, False,\n",
       "                    False, False, False, False, False, False, False, False,\n",
       "                    False, False, False, False, False, False, False, False],\n",
       "        fill_value='?',\n",
       "             dtype=object),\n",
       " 'param_solver': masked_array(data=['sgd', 'adam', 'sgd', 'adam', 'sgd', 'adam', 'sgd',\n",
       "                    'adam', 'sgd', 'adam', 'sgd', 'adam', 'sgd', 'adam',\n",
       "                    'sgd', 'adam', 'sgd', 'adam', 'sgd', 'adam', 'sgd',\n",
       "                    'adam', 'sgd', 'adam'],\n",
       "              mask=[False, False, False, False, False, False, False, False,\n",
       "                    False, False, False, False, False, False, False, False,\n",
       "                    False, False, False, False, False, False, False, False],\n",
       "        fill_value='?',\n",
       "             dtype=object),\n",
       " 'params': [{'activation': 'logistic',\n",
       "   'hidden_layer_sizes': (64,),\n",
       "   'solver': 'sgd'},\n",
       "  {'activation': 'logistic', 'hidden_layer_sizes': (64,), 'solver': 'adam'},\n",
       "  {'activation': 'logistic', 'hidden_layer_sizes': (32,), 'solver': 'sgd'},\n",
       "  {'activation': 'logistic', 'hidden_layer_sizes': (32,), 'solver': 'adam'},\n",
       "  {'activation': 'logistic', 'hidden_layer_sizes': (16,), 'solver': 'sgd'},\n",
       "  {'activation': 'logistic', 'hidden_layer_sizes': (16,), 'solver': 'adam'},\n",
       "  {'activation': 'logistic', 'hidden_layer_sizes': (32, 64), 'solver': 'sgd'},\n",
       "  {'activation': 'logistic', 'hidden_layer_sizes': (32, 64), 'solver': 'adam'},\n",
       "  {'activation': 'logistic', 'hidden_layer_sizes': (16, 32), 'solver': 'sgd'},\n",
       "  {'activation': 'logistic', 'hidden_layer_sizes': (16, 32), 'solver': 'adam'},\n",
       "  {'activation': 'logistic', 'hidden_layer_sizes': (128,), 'solver': 'sgd'},\n",
       "  {'activation': 'logistic', 'hidden_layer_sizes': (128,), 'solver': 'adam'},\n",
       "  {'activation': 'relu', 'hidden_layer_sizes': (64,), 'solver': 'sgd'},\n",
       "  {'activation': 'relu', 'hidden_layer_sizes': (64,), 'solver': 'adam'},\n",
       "  {'activation': 'relu', 'hidden_layer_sizes': (32,), 'solver': 'sgd'},\n",
       "  {'activation': 'relu', 'hidden_layer_sizes': (32,), 'solver': 'adam'},\n",
       "  {'activation': 'relu', 'hidden_layer_sizes': (16,), 'solver': 'sgd'},\n",
       "  {'activation': 'relu', 'hidden_layer_sizes': (16,), 'solver': 'adam'},\n",
       "  {'activation': 'relu', 'hidden_layer_sizes': (32, 64), 'solver': 'sgd'},\n",
       "  {'activation': 'relu', 'hidden_layer_sizes': (32, 64), 'solver': 'adam'},\n",
       "  {'activation': 'relu', 'hidden_layer_sizes': (16, 32), 'solver': 'sgd'},\n",
       "  {'activation': 'relu', 'hidden_layer_sizes': (16, 32), 'solver': 'adam'},\n",
       "  {'activation': 'relu', 'hidden_layer_sizes': (128,), 'solver': 'sgd'},\n",
       "  {'activation': 'relu', 'hidden_layer_sizes': (128,), 'solver': 'adam'}],\n",
       " 'split0_test_score': array([ 6.94752742e-02,  7.73659521e-02,  1.79249366e-03,  7.96269277e-02,\n",
       "         8.33556315e-04,  4.14294892e-02, -1.23049058e-04,  6.86744811e-02,\n",
       "         1.66255734e-03, -2.96944711e-05,  6.41219807e-02,  7.62047833e-02,\n",
       "        -5.55175494e-06,  8.35546212e-02, -2.88650240e-04,  8.62427604e-02,\n",
       "        -4.14191772e-08,  3.66033178e-02, -3.01852557e-05,  7.05549525e-02,\n",
       "        -7.02738547e-05,  7.57825583e-02, -1.29413113e-04,  8.41942166e-02]),\n",
       " 'split1_test_score': array([ 5.54052990e-02,  5.31530011e-02,  4.42279812e-02,  6.78340160e-02,\n",
       "         5.05074493e-02,  5.77387241e-02,  1.90496049e-05, -7.80739706e-07,\n",
       "         1.74454967e-03, -7.84726518e-04,  6.07306572e-02,  6.83249592e-02,\n",
       "        -1.16334058e-06,  7.79955874e-02, -6.94055043e-05,  7.66667791e-02,\n",
       "        -1.66411606e-06,  4.08418990e-02, -4.75156276e-05,  5.66850379e-02,\n",
       "        -4.44299899e-06,  4.63037384e-02, -2.65971860e-06,  8.04710693e-02]),\n",
       " 'split2_test_score': array([ 5.34461459e-02,  4.05901492e-02,  6.08912635e-02,  4.43208310e-02,\n",
       "         4.82303494e-02,  6.21271123e-02, -4.60867768e-04,  5.96188991e-02,\n",
       "         1.54186707e-03, -2.13167995e-03,  5.76775427e-02,  6.84007428e-02,\n",
       "        -1.97667430e-06,  6.09033341e-02, -1.48442218e-05,  7.72515544e-02,\n",
       "        -1.93148122e-06, -1.81698663e-02, -5.24178856e-05,  6.40840993e-02,\n",
       "        -4.15469452e-06, -3.23105519e-04, -8.02610339e-05,  7.88463234e-02]),\n",
       " 'split3_test_score': array([ 5.82226752e-02,  6.28320979e-02,  5.73954953e-02,  6.08599936e-02,\n",
       "         4.99822020e-02,  6.09416559e-02,  2.58754104e-06, -4.42265220e-05,\n",
       "         1.46203363e-03, -1.43214293e-03,  4.45352496e-02,  6.26968510e-02,\n",
       "        -9.15197127e-05,  6.24956891e-02, -2.50359844e-07,  7.51098378e-02,\n",
       "        -4.60813102e-06, -3.21180517e-01, -2.53252212e-06,  6.55944255e-02,\n",
       "        -1.31357457e-05,  6.55041555e-02, -1.24953795e-05,  7.13395461e-02]),\n",
       " 'split4_test_score': array([ 5.39659289e-02,  6.63454611e-02,  4.56002529e-02,  4.87140641e-02,\n",
       "         4.59683691e-02,  5.42860443e-02, -2.12036228e-04, -1.27138793e-04,\n",
       "         1.48133062e-03, -2.69583099e-05,  4.30780188e-02,  6.20187146e-02,\n",
       "        -3.76816093e-05,  7.45694606e-02, -1.56138902e-05,  7.72534252e-02,\n",
       "        -6.07383617e-06, -2.33715543e-01, -4.25515871e-06,  6.02416721e-02,\n",
       "        -4.42150232e-06,  7.18986437e-02, -5.35291844e-05,  7.13402695e-02]),\n",
       " 'mean_test_score': array([ 5.81030646e-02,  6.00573323e-02,  4.19814973e-02,  6.02711665e-02,\n",
       "         3.91043852e-02,  5.53046052e-02, -1.54863182e-04,  2.56242468e-02,\n",
       "         1.57846767e-03, -8.81040436e-04,  5.40286898e-02,  6.75292102e-02,\n",
       "        -2.75786184e-05,  7.19037385e-02, -7.77528433e-05,  7.85048714e-02,\n",
       "        -2.86379673e-06, -9.91241419e-02, -2.73812900e-05,  6.34320375e-02,\n",
       "        -1.92857592e-05,  5.18331981e-02, -5.56716859e-05,  7.72382850e-02]),\n",
       " 'std_test_score': array([5.92321163e-03, 1.24375980e-02, 2.11114599e-02, 1.28075659e-02,\n",
       "        1.92010969e-02, 7.45391426e-03, 1.74903453e-04, 3.15835573e-02,\n",
       "        1.08615283e-04, 8.16251892e-04, 8.60404114e-03, 5.10638055e-03,\n",
       "        3.47244672e-05, 8.82587170e-03, 1.08048849e-04, 3.94757351e-03,\n",
       "        2.17353704e-06, 1.49659553e-01, 2.09397426e-05, 4.72308078e-03,\n",
       "        2.57208527e-05, 2.79783630e-02, 4.63065579e-05, 5.11865950e-03]),\n",
       " 'rank_test_score': array([ 8,  7, 12,  6, 13,  9, 22, 14, 15, 23, 10,  4, 19,  3, 21,  1, 16,\n",
       "        24, 18,  5, 17, 11, 20,  2]),\n",
       " 'split0_train_score': array([ 5.98564640e-02,  7.20953159e-02,  7.40244837e-04,  7.29260695e-02,\n",
       "        -1.17113093e-04,  3.23532920e-02,  2.64894819e-05,  6.69937961e-02,\n",
       "         1.53962823e-03, -2.11181032e-06,  5.49916809e-02,  7.10864572e-02,\n",
       "        -1.82970012e-05,  7.80989614e-02, -8.25103001e-05,  7.78038745e-02,\n",
       "        -4.37535607e-05,  3.43172771e-02, -1.99505660e-06,  6.43032091e-02,\n",
       "        -1.50104498e-06,  6.96464694e-02, -1.87621307e-05,  7.50412638e-02]),\n",
       " 'split1_train_score': array([ 5.46929969e-02,  5.53104516e-02,  4.40283397e-02,  6.82218131e-02,\n",
       "         4.98235388e-02,  6.05349040e-02,  3.75751476e-05, -2.46589515e-08,\n",
       "         1.73736417e-03, -8.30332044e-04,  6.03823080e-02,  6.84707043e-02,\n",
       "        -4.29319580e-09,  7.96210665e-02, -5.04346203e-05,  7.80071229e-02,\n",
       "        -5.79027687e-06,  4.65923357e-02, -3.22712403e-05,  5.88442036e-02,\n",
       "        -1.03332187e-05,  4.78619349e-02, -2.30663429e-07,  8.19618364e-02]),\n",
       " 'split2_train_score': array([ 5.50231660e-02,  4.35903942e-02,  6.13107717e-02,  4.67563154e-02,\n",
       "         4.91010656e-02,  6.14966390e-02, -4.43962080e-04,  6.18991373e-02,\n",
       "         1.65263789e-03, -2.10212534e-03,  6.11007914e-02,  6.94351809e-02,\n",
       "        -1.60086889e-06,  6.42919343e-02, -1.36041304e-05,  8.12387626e-02,\n",
       "        -2.25998500e-06, -1.21473890e-02, -4.95995480e-05,  6.52643121e-02,\n",
       "        -4.60341966e-06, -3.12355956e-04, -1.27166946e-07,  8.14691610e-02]),\n",
       " 'split3_train_score': array([ 6.07449826e-02,  6.62020245e-02,  6.04946393e-02,  6.39594728e-02,\n",
       "         4.90681549e-02,  6.34511433e-02, -1.39172402e-04, -1.67907691e-04,\n",
       "         1.42027443e-03, -1.23712842e-03,  4.36600020e-02,  6.49554015e-02,\n",
       "        -7.11774357e-06,  6.86627079e-02, -3.97565471e-05,  8.30891178e-02,\n",
       "        -1.18467239e-05, -3.69467787e-01, -1.63422758e-05,  6.70812903e-02,\n",
       "        -3.39833280e-06,  7.54927908e-02, -4.17956174e-06,  7.90621830e-02]),\n",
       " 'split4_train_score': array([ 5.96256275e-02,  7.10953923e-02,  5.00813272e-02,  5.19373790e-02,\n",
       "         5.06982060e-02,  6.03414129e-02, -2.95316664e-04, -1.87716509e-04,\n",
       "         1.65342586e-03, -1.01132496e-05,  4.79085161e-02,  6.77850386e-02,\n",
       "        -1.72251748e-05,  7.89362562e-02, -3.83526831e-05,  8.16948658e-02,\n",
       "        -1.47509575e-07, -2.46726122e-01, -7.68768826e-10,  6.68313186e-02,\n",
       "        -1.74479542e-10,  7.68669496e-02, -2.87051639e-05,  7.52955454e-02]),\n",
       " 'mean_train_score': array([ 5.79886474e-02,  6.16587157e-02,  4.33310645e-02,  6.07602100e-02,\n",
       "         3.97147704e-02,  5.56354783e-02, -1.62877303e-04,  2.57074569e-02,\n",
       "         1.60066611e-03, -8.36362173e-04,  5.36086597e-02,  6.83465565e-02,\n",
       "        -8.84901634e-06,  7.39221852e-02, -4.49316562e-05,  8.03667488e-02,\n",
       "        -1.27596112e-05, -1.09486337e-01, -2.00417779e-05,  6.44648667e-02,\n",
       "        -3.96723812e-06,  5.39111578e-02, -1.04009373e-05,  7.85659979e-02]),\n",
       " 'std_train_score': array([2.58539045e-03, 1.08201649e-02, 2.22615737e-02, 9.87795879e-03,\n",
       "        1.99248104e-02, 1.16931452e-02, 1.86092301e-04, 3.16713392e-02,\n",
       "        1.09943439e-04, 7.92649645e-04, 6.86140693e-03, 2.02597169e-03,\n",
       "        7.65749989e-06, 6.25247872e-03, 2.23334529e-05, 2.10103570e-03,\n",
       "        1.59958566e-05, 1.67892832e-01, 1.87842170e-05, 2.99007917e-03,\n",
       "        3.55172609e-06, 2.90417556e-02, 1.14249255e-05, 2.94366724e-03])}"
      ]
     },
     "execution_count": 15,
     "metadata": {},
     "output_type": "execute_result"
    }
   ],
   "source": [
    "gridCV.cv_results_"
   ]
  },
  {
   "cell_type": "code",
   "execution_count": 14,
   "metadata": {},
   "outputs": [
    {
     "data": {
      "text/plain": [
       "{'activation': 'relu', 'hidden_layer_sizes': (32,), 'solver': 'adam'}"
      ]
     },
     "execution_count": 14,
     "metadata": {},
     "output_type": "execute_result"
    }
   ],
   "source": [
    "gridCV.best_params_"
   ]
  },
  {
   "cell_type": "code",
   "execution_count": null,
   "metadata": {},
   "outputs": [],
   "source": [
    "chunksize = 1000000\n",
    "sliding_window_data = pd.read_csv(\"sliding_window_data.csv\", chunksize=chunksize, iterator=True)"
   ]
  },
  {
   "cell_type": "code",
   "execution_count": null,
   "metadata": {},
   "outputs": [],
   "source": [
    "regression_model_hyper = MLPRegressor(activation=\"relu\", hidden_layer_sizes=(32,), solver=\"adam\", random_state=seed, shuffle=True)\n",
    "for batch in tqdm(sliding_window_data):\n",
    "    drop_cols = [\"date\",\"time\",\"station\"]\n",
    "    for i in range(1,7):\n",
    "        for j in range(1,7):\n",
    "            drop_cols.append(f\"T{i}S{j}_station number\")\n",
    "    batch.drop(drop_cols, axis=1, inplace=True)\n",
    "    batch.fillna(value=0, inplace=True)\n",
    "    regression_model_hyper.partial_fit(batch.iloc[:,1:], batch.iloc[:,0])"
   ]
  }
 ],
 "metadata": {
  "kernelspec": {
   "display_name": "rainEnv",
   "language": "python",
   "name": "python3"
  },
  "language_info": {
   "codemirror_mode": {
    "name": "ipython",
    "version": 3
   },
   "file_extension": ".py",
   "mimetype": "text/x-python",
   "name": "python",
   "nbconvert_exporter": "python",
   "pygments_lexer": "ipython3",
   "version": "3.10.2"
  },
  "orig_nbformat": 4
 },
 "nbformat": 4,
 "nbformat_minor": 2
}
